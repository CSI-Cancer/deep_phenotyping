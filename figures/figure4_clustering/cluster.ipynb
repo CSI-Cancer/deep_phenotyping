{
 "cells": [
  {
   "cell_type": "code",
   "execution_count": 10,
   "metadata": {},
   "outputs": [],
   "source": [
    "import h5py\n",
    "import numpy as np\n",
    "import pandas as pd\n",
    "import torch\n",
    "import os\n",
    "import glob\n",
    "import matplotlib as mpl\n",
    "import matplotlib.font_manager as fm\n",
    "import matplotlib.pyplot as plt\n",
    "import seaborn as sns\n",
    "\n",
    "classes = {\n",
    "    0: 'Large Nuclei',\n",
    "    1: 'CTCs',\n",
    "    2: 'imCTCs',\n",
    "    3: 'pcCTCs',\n",
    "    4: 'Megakaryocyte-Like Cells',\n",
    "    5: 'CECs',\n",
    "    6: 'Fibroblast-Like Cells',\n",
    "    7: 'Lymphoid Cells',\n",
    "    8: 'Granulocytes',\n",
    "    9: 'Monocytes/Macrophages'\n",
    "}\n",
    "\n",
    "colors = ['aqua', 'darkorange', 'cornflowerblue', 'darkgreen', 'red', 'purple',\n",
    "\t\t  'brown', 'pink', 'gray', 'olive', 'lightgray', 'yellow']\n",
    "\n",
    "colors_dict = {k: c for k, c in zip(classes.values(), colors)}\n",
    "fe = fm.FontEntry(\n",
    "\tfname='/mnt/deepstore/LBxPheno/figures/Helvetica.ttf',\n",
    "\tname='helvetica')\n",
    "fm.fontManager.ttflist.insert(0, fe)\n",
    "mpl.rcParams['font.family'] = fe.name\n",
    "plt.rcParams.update({'font.size': 11, 'font.family': 'helvetica'})"
   ]
  },
  {
   "cell_type": "code",
   "execution_count": 11,
   "metadata": {},
   "outputs": [
    {
     "data": {
      "text/plain": [
       "CL(\n",
       "  (encoder): Encoder(\n",
       "    (conv1): Conv2d(5, 32, kernel_size=(3, 3), stride=(1, 1), padding=(1, 1))\n",
       "    (bn1): BatchNorm2d(32, eps=1e-05, momentum=0.1, affine=True, track_running_stats=True)\n",
       "    (conv2): Conv2d(32, 64, kernel_size=(3, 3), stride=(1, 1), padding=(1, 1))\n",
       "    (bn2): BatchNorm2d(64, eps=1e-05, momentum=0.1, affine=True, track_running_stats=True)\n",
       "    (conv3): Conv2d(64, 128, kernel_size=(3, 3), stride=(1, 1), padding=(1, 1))\n",
       "    (bn3): BatchNorm2d(128, eps=1e-05, momentum=0.1, affine=True, track_running_stats=True)\n",
       "    (conv4): Conv2d(128, 256, kernel_size=(3, 3), stride=(1, 1), padding=(1, 1))\n",
       "    (bn4): BatchNorm2d(256, eps=1e-05, momentum=0.1, affine=True, track_running_stats=True)\n",
       "    (pool): MaxPool2d(kernel_size=2, stride=2, padding=0, dilation=1, ceil_mode=False)\n",
       "    (adap_pool): AdaptiveAvgPool2d(output_size=(1, 1))\n",
       "    (fc): Linear(in_features=256, out_features=128, bias=True)\n",
       "  )\n",
       "  (projector): Sequential(\n",
       "    (0): Linear(in_features=128, out_features=128, bias=False)\n",
       "    (1): ReLU()\n",
       "    (2): Linear(in_features=128, out_features=64, bias=False)\n",
       "  )\n",
       ")"
      ]
     },
     "execution_count": 11,
     "metadata": {},
     "output_type": "execute_result"
    }
   ],
   "source": [
    "import os\n",
    "import sys\n",
    "\n",
    "# Add the project root to the Python path\n",
    "# Get the notebook's directory and go up to project root\n",
    "notebook_dir = os.path.abspath('')\n",
    "project_root = os.path.abspath(os.path.join(notebook_dir, \"../..\"))\n",
    "sys.path.append(project_root)\n",
    "\n",
    "from src.representation_learning.data_loader import CustomImageDataset\n",
    "from src.representation_learning.model_cl import CL\n",
    "from src.utils import utils\n",
    "\n",
    "\n",
    "\n",
    "np.random.seed(42)\n",
    "torch.manual_seed(42)\n",
    "torch.cuda.manual_seed(42)\n",
    "\n",
    "device = 'cuda:0'\n",
    "\n",
    "#model\n",
    "#model_path = '/mnt/deepstore/LBxPheno/pipeline/model_weights/representation_model.pth'\n",
    "model_path = '/mnt/deepstore/LBxPheno/pipeline/model_weights/representation_learning_04_28.pth'\n",
    "model = CL(in_channels=5, h_dim=128, projection_dim=64)\n",
    "state_dict = torch.load(model_path)['model_state_dict']\n",
    "model.load_state_dict(state_dict)\n",
    "model.eval()\n",
    "model.to(device)"
   ]
  },
  {
   "cell_type": "code",
   "execution_count": 12,
   "metadata": {},
   "outputs": [],
   "source": [
    "def get_data_loaders(data_path, batch_size=64):\n",
    "    types = [d for d in os.listdir(data_path) if os.path.isdir(os.path.join(data_path, d))]\n",
    "    images_list = []\n",
    "    masks_list = []\n",
    "    labels_list = []\n",
    "    print(types)\n",
    "    for label, t in enumerate(types):\n",
    "        print(t)\n",
    "        current_type_path = os.path.join(data_path, t)\n",
    "        current_type_files = glob.glob(os.path.join(current_type_path, \"*.hdf5\"))\n",
    "        class_images = []\n",
    "        class_masks = []\n",
    "\n",
    "\n",
    "        for file_path in current_type_files:\n",
    "            with h5py.File(file_path, 'r') as f:\n",
    "                imgs = np.array(f['images'][:])  # Ensure dtype matches the image data type\n",
    "                msks = np.array(f['masks'][:])\n",
    "\n",
    "                class_images.append(imgs)\n",
    "                class_masks.append(msks)\n",
    "                \n",
    "        class_images = np.concatenate(class_images, axis=0)\n",
    "        class_masks = np.concatenate(class_masks,axis=0)\n",
    "\n",
    "\n",
    "        # (n, 75, 75, 1) for masks. if (n, 75, 75) then expand dims\n",
    "        if len(class_masks.shape) == 3:\n",
    "            class_masks = np.expand_dims(class_masks, axis=-1)\n",
    "        \n",
    "        #if mask > 0, then 1\n",
    "        class_masks[class_masks > 0] = 1\n",
    "\n",
    "        \n",
    "        images_list.append(class_images)\n",
    "        masks_list.append(class_masks)\n",
    "        labels_list.append(np.full(len(class_images), label, dtype=np.int64))\n",
    "\n",
    "    # Concatenate lists to form arrays\n",
    "    \n",
    "    images = np.concatenate(images_list, axis=0)\n",
    "    masks = np.concatenate(masks_list, axis=0)\n",
    "    labels = np.concatenate(labels_list, axis=0)\n",
    "\n",
    "    print(images.shape, masks.shape, labels.shape)\n",
    "\n",
    "    return images, masks, labels"
   ]
  },
  {
   "cell_type": "code",
   "execution_count": 13,
   "metadata": {},
   "outputs": [
    {
     "name": "stdout",
     "output_type": "stream",
     "text": [
      "['Large_Nuclear', 'CTCs', 'IM_CTC', 'PC_CTCs', 'Megakaryocytes', 'CECs', 'Large_Vimentin']\n",
      "Large_Nuclear\n",
      "CTCs\n",
      "IM_CTC\n",
      "PC_CTCs\n",
      "Megakaryocytes\n",
      "CECs\n",
      "Large_Vimentin\n",
      "(2166, 75, 75, 4) (2166, 75, 75, 1) (2166,)\n"
     ]
    }
   ],
   "source": [
    "#data_path\n",
    "dp = '/mnt/deepstore/LBxPheno/figures/figure2/data_dropped_NAN_CECs'\n",
    "rare_images, rare_masks, rare_labels = get_data_loaders(dp, batch_size=512)"
   ]
  },
  {
   "cell_type": "code",
   "execution_count": 14,
   "metadata": {},
   "outputs": [],
   "source": [
    "with h5py.File('/mnt/deepstore/LBxPheno/figures/figure3/data/0ADD705_gated_full_final.hdf5', 'r') as f:\n",
    "   raw_wbcimages = f['padded_images'][:]\n",
    "   raw_wbcmasks = f['masks'][:]\n",
    "raw_features = pd.read_hdf('/mnt/deepstore/LBxPheno/figures/figure3/data/0ADD705_gated_full_final.hdf5', 'features')\n",
    "\n",
    "# sample n_sample of each group in features\n",
    "raw_features['Multiclass_3'] = raw_features['Multiclass_5'].map({\n",
    "\t'Granulocytes': 'Granulocytes',\n",
    "\t'T-cells': 'Lymphocytes',\n",
    "\t'Monocyte/Macrophages': 'Monocyte/Macrophages',\n",
    "\t'B-cells': 'Lymphocytes',\n",
    "\t'NK-cells': 'Lymphocytes'\n",
    "})\n",
    "\n",
    "# sample n_sample of each group in Multiclass_3\n",
    "# indices = features.groupby('Multiclass_3').apply(lambda x: x.sample(n_sample, random_state=42).index).reset_index(drop=True)\n",
    "# indices = indices.apply(lambda x: x.tolist())\n",
    "# all_indices = []\n",
    "# for batch in indices:\n",
    "# \tprint(len(batch))\n",
    "# \tall_indices.extend(batch)\n",
    "\n",
    "\n",
    "\n",
    "# Find the indices of the images that have a mask that is entirely 0 pixels\n",
    "indices = []\n",
    "for i in range(len(raw_wbcmasks)):\n",
    "    if np.sum(raw_wbcmasks[i]) == 0:\n",
    "        indices.append(i)\n",
    "\n",
    "#delete the images and masks that have a mask that is entirely 0 pixels\n",
    "raw_wbcimages = np.delete(raw_wbcimages, indices, axis=0)\n",
    "raw_wbcimages = np.delete(raw_wbcimages, indices, axis=0)\n",
    "\n",
    "#delete the corresponding rows in the features\n",
    "raw_features = raw_features.drop(raw_features.index[indices])\n",
    "\n",
    "#set all non-zero pixels in the mask to 1\n",
    "raw_wbcmasks[raw_wbcmasks > 0] = 1\n",
    "\n",
    "wbclabels = raw_features['Multiclass_5'].values\n",
    "wbclabels[wbclabels == 'Granulocytes'] = 7\n",
    "wbclabels[wbclabels == 'T-cells'] = 8\n",
    "wbclabels[wbclabels == 'Monocyte/Macrophages'] = 9\n",
    "wbclabels[wbclabels == 'B-cells'] = 8#10\n",
    "wbclabels[wbclabels == 'NK-cells'] = 8#11"
   ]
  },
  {
   "cell_type": "code",
   "execution_count": 15,
   "metadata": {},
   "outputs": [
    {
     "name": "stdout",
     "output_type": "stream",
     "text": [
      "(30059, 75, 75, 4) (30059, 75, 75, 1) (30059, 94)\n"
     ]
    }
   ],
   "source": [
    "#print shape of raw_wbcimages\n",
    "\n",
    "print(raw_wbcimages.shape, raw_wbcmasks.shape, raw_features.shape)"
   ]
  },
  {
   "cell_type": "code",
   "execution_count": 16,
   "metadata": {},
   "outputs": [],
   "source": [
    "# ----------------------------- imports ----------------------------------\n",
    "from pathlib import Path\n",
    "import numpy as np\n",
    "import pandas as pd\n",
    "import scipy.sparse as sp\n",
    "\n",
    "from sklearn.preprocessing   import StandardScaler\n",
    "from sklearn.decomposition   import PCA\n",
    "from sklearn.cluster         import KMeans\n",
    "from sklearn.neighbors       import NearestNeighbors\n",
    "from sklearn.metrics.pairwise import cosine_distances\n",
    "from sklearn.metrics         import (\n",
    "    adjusted_rand_score, normalized_mutual_info_score,\n",
    "    adjusted_mutual_info_score, homogeneity_score, completeness_score,\n",
    ")\n",
    "\n",
    "import igraph as ig\n",
    "import leidenalg\n",
    "import torch\n"
   ]
  },
  {
   "cell_type": "code",
   "execution_count": 17,
   "metadata": {},
   "outputs": [],
   "source": [
    "results = []                                      # <-- list of rows\n",
    "score_names = ['ARI', 'NMI', 'AMI', 'Homogeneity', 'Completeness']\n",
    "\n",
    "def collect_results(ratio, features, clustering, score_names, score_values):\n",
    "    row = dict(ratio=ratio, features=features, clustering=clustering)\n",
    "    row.update(dict(zip(score_names, score_values)))\n",
    "    results.append(row)                           # works, results is a list"
   ]
  },
  {
   "cell_type": "code",
   "execution_count": 18,
   "metadata": {},
   "outputs": [],
   "source": [
    "LABEL_MAP = {\n",
    "    \"Granulocytes\": 7,\n",
    "    \"T-cells\": 8,\n",
    "    \"Monocyte/Macrophages\": 9,\n",
    "    \"B-cells\": 8,    # 10 collapsed into 8\n",
    "    \"NK-cells\": 8,   # 11 collapsed into 8\n",
    "}\n",
    "\n",
    "# clustering / HDBSCAN hyper‑params (tweak as needed)\n",
    "k                = 15          # K‑NN for Leiden\n",
    "min_size_cluster = 50\n",
    "min_samples      = 15\n",
    "\n",
    "# where the two CellProfiler feature tables live\n",
    "TRAD_PATHS = [\n",
    "    \"/mnt/deepstore/LBxPheno/dev/robustness_test/blurred_sigma_0.0_trad_feat.txt\",\n",
    "    \"/mnt/deepstore/LBxPheno/figures/figure3/tifs/features.txt\",\n",
    "]\n",
    "\n",
    "# ratios we want to test\n",
    "RATIOS = [0.5, 1, 2, 4, 7, 10]\n"
   ]
  },
  {
   "cell_type": "code",
   "execution_count": 19,
   "metadata": {},
   "outputs": [
    {
     "name": "stderr",
     "output_type": "stream",
     "text": [
      "/home/tessone/miniconda3/envs/prism/lib/python3.9/site-packages/tqdm/auto.py:21: TqdmWarning: IProgress not found. Please update jupyter and ipywidgets. See https://ipywidgets.readthedocs.io/en/stable/user_install.html\n",
      "  from .autonotebook import tqdm as notebook_tqdm\n"
     ]
    }
   ],
   "source": [
    "# ────────────────────────── EXTRA IMPORTS ────────────────────────────────\n",
    "import umap\n",
    "import matplotlib.pyplot as plt\n",
    "from matplotlib.backends.backend_pdf import PdfPages\n",
    "import seaborn as sns\n",
    "\n",
    "# colour palette for up to 10 classes (repeat or change as needed)\n",
    "PALETTE = sns.color_palette(\"tab10\", 10)\n",
    "\n",
    "def scatter_umap(ax, coords, labels, title):\n",
    "    \"\"\"Convenience plotter: scatter UMAP coords coloured by integer labels.\"\"\"\n",
    "    ax.scatter(\n",
    "        coords[:, 0], coords[:, 1],\n",
    "        c=[PALETTE[l % len(PALETTE)] for l in labels],\n",
    "        s=8, alpha=0.8, linewidths=0\n",
    "    )\n",
    "    ax.set_xticks([]); ax.set_yticks([])\n",
    "    ax.set_title(title, fontsize=10)\n"
   ]
  },
  {
   "cell_type": "code",
   "execution_count": 20,
   "metadata": {},
   "outputs": [],
   "source": [
    "def add_umap_page(pdf, coords, true_labels, pred_labels,\n",
    "                  ratio, feat_name, algo_name):\n",
    "    fig, axes = plt.subplots(1, 2, figsize=(8, 4), dpi=300)\n",
    "    scatter_umap(axes[0], coords, true_labels,  \"True labels\")\n",
    "    scatter_umap(axes[1], coords, pred_labels,  f\"{algo_name} clusters\")\n",
    "    fig.suptitle(f\"Ratio {ratio} — {feat_name} — {algo_name}\", fontsize=12)\n",
    "    pdf.savefig(fig, bbox_inches=\"tight\")\n",
    "    plt.close(fig)\n"
   ]
  },
  {
   "cell_type": "code",
   "execution_count": 21,
   "metadata": {},
   "outputs": [],
   "source": [
    "def clustering_metrics(y_true, y_pred):\n",
    "    return dict(\n",
    "        ARI=adjusted_rand_score(y_true, y_pred),\n",
    "        NMI=normalized_mutual_info_score(y_true, y_pred),\n",
    "        AMI=adjusted_mutual_info_score(y_true, y_pred),\n",
    "        Homogeneity=homogeneity_score(y_true, y_pred),\n",
    "        Completeness=completeness_score(y_true, y_pred),\n",
    "    )\n"
   ]
  },
  {
   "cell_type": "code",
   "execution_count": 22,
   "metadata": {},
   "outputs": [],
   "source": [
    "def sample_wbcs(raw_feats, raw_imgs, raw_masks, n_cells, seed=42):\n",
    "    idx     = raw_feats.sample(n_cells, random_state=seed).index.tolist()\n",
    "    feats   = raw_feats.loc[idx].copy()\n",
    "    imgs    = raw_imgs[idx]\n",
    "    masks   = raw_masks[idx]\n",
    "\n",
    "    keep    = [i for i, m in enumerate(masks) if m.sum() > 0]\n",
    "    imgs    = imgs [keep]\n",
    "    masks   = masks[keep]\n",
    "    feats   = feats.iloc[keep]\n",
    "\n",
    "    masks[masks > 0] = 1           # binarise\n",
    "    labels  = feats[\"Multiclass_5\"].replace(LABEL_MAP).astype(int).values\n",
    "    return imgs, masks, labels, idx\n"
   ]
  },
  {
   "cell_type": "code",
   "execution_count": 23,
   "metadata": {},
   "outputs": [],
   "source": [
    "def load_traditional_wbcfeatures(path, img_idx=None):\n",
    "    df = pd.read_csv(path, sep=\"\\t\")\n",
    "    df[\"img_index\"] = (\n",
    "        df[\"image_name\"].str.split(\"_\").str[1].str.split(\".\").str[0].astype(int)\n",
    "    )\n",
    "    df = df.sort_values(\"img_index\").reset_index(drop=True)\n",
    "    if img_idx is not None:\n",
    "        df = df.loc[img_idx].reset_index(drop=True)\n",
    "\n",
    "    drop_starts = (\"nucleusf.\", \"cellf.B\")\n",
    "    drop_ends   = (\".cx\", \".cy\")\n",
    "    drop_cont   = (\"theta\", \"nucleus_cell_dist\", \"cell_nucleus_ratio\", \"tritc_cy5_ratio\")\n",
    "\n",
    "    keep = [\n",
    "        c for c in df.columns\n",
    "        if not c.startswith(drop_starts)\n",
    "        and not c.endswith(drop_ends)\n",
    "        and not any(x in c for x in drop_cont)\n",
    "    ]\n",
    "    \n",
    "    return df[keep].drop(columns=[\"img_index\", \"image_name\"])\n"
   ]
  },
  {
   "cell_type": "code",
   "execution_count": 24,
   "metadata": {},
   "outputs": [],
   "source": [
    "def load_raretrad_features(path):\n",
    "    df = pd.read_csv(path, sep=\"\\t\")\n",
    "   \n",
    "    drop_starts = (\"nucleusf.\", \"cellf.B\", \"frame_id\",\"cell_id\",\"x\",\"y\",\"slide_id\")\n",
    "    drop_ends   = (\".cx\", \".cy\")\n",
    "    drop_cont   = (\"theta\", \"nucleus_cell_dist\", \"cell_nucleus_ratio\", \"tritc_cy5_ratio\")\n",
    "    \n",
    "\n",
    "    keep = [\n",
    "        c for c in df.columns\n",
    "        if not c.startswith(drop_starts)\n",
    "        and not c.endswith(drop_ends)\n",
    "        and not any(x in c for x in drop_cont)\n",
    "    ]\n",
    "    \n",
    "    return df[keep].drop(columns=[\"image_name\"])"
   ]
  },
  {
   "cell_type": "code",
   "execution_count": 25,
   "metadata": {},
   "outputs": [],
   "source": [
    "def pca_features(df, n_components=128):\n",
    "    X      = StandardScaler().fit_transform(df)\n",
    "    pca    = PCA(n_components=n_components).fit(X)\n",
    "    return pca.transform(X), pca.explained_variance_ratio_.sum()\n"
   ]
  },
  {
   "cell_type": "code",
   "execution_count": 26,
   "metadata": {},
   "outputs": [],
   "source": [
    "def get_embeddings_array(imgs, masks, labels):\n",
    "    ds = CustomImageDataset(imgs, masks, labels)\n",
    "    dl = torch.utils.data.DataLoader(ds, batch_size=512, shuffle=False)\n",
    "    emb = utils.get_embeddings(model, dl, device).cpu().numpy()\n",
    "    return StandardScaler().fit_transform(emb)\n",
    "\n"
   ]
  },
  {
   "cell_type": "code",
   "execution_count": 27,
   "metadata": {},
   "outputs": [],
   "source": [
    "def kmeans_results(X, y, n_clusters=10):\n",
    "    km   = KMeans(n_clusters=n_clusters, random_state=42).fit(X)\n",
    "    lab  = km.labels_\n",
    "    mets = clustering_metrics(y, lab)\n",
    "    return mets, lab\n",
    "\n",
    "def leiden_results(X, y, neighbors):\n",
    "    nbr  = NearestNeighbors(n_neighbors=neighbors, metric=\"cosine\").fit(X)\n",
    "    dist, idx = nbr.kneighbors(X)\n",
    "    sims = 1 - dist\n",
    "    n    = X.shape[0]\n",
    "    rows = np.repeat(np.arange(n), neighbors)\n",
    "    A    = sp.coo_matrix((sims.ravel(), (rows, idx.ravel())), shape=(n, n))\n",
    "    A    = A.maximum(A.T)\n",
    "    g    = ig.Graph.Adjacency((A > 0).toarray().tolist()).as_undirected()\n",
    "    g.es[\"weight\"] = A.data\n",
    "    lab  = leidenalg.find_partition(\n",
    "        g, leidenalg.ModularityVertexPartition, weights=\"weight\"\n",
    "    ).membership\n",
    "    mets = clustering_metrics(y, lab)\n",
    "    return mets, np.array(lab)\n"
   ]
  },
  {
   "cell_type": "code",
   "execution_count": 28,
   "metadata": {},
   "outputs": [],
   "source": [
    "def run_one_ratio(ratio, raw_feats, raw_imgs, raw_masks):\n",
    "    n_wbc = int(2166 * ratio)\n",
    "\n",
    "    # 1) WBC sampling ---------------------------------------------------------\n",
    "    wb_imgs, wb_masks, wb_labels, wb_idx = sample_wbcs(\n",
    "        raw_feats, raw_imgs, raw_masks, n_wbc\n",
    "    )\n",
    "\n",
    "    # 2) Merge with rare set --------------------------------------------------\n",
    "    imgs   = np.concatenate([rare_images, wb_imgs])\n",
    "    masks  = np.concatenate([rare_masks, wb_masks])\n",
    "    labels = np.concatenate([rare_labels, wb_labels])\n",
    "\n",
    "    # 3) Traditional features -------------------------------------------------\n",
    "    trad = pd.concat(\n",
    "        [\n",
    "            load_raretrad_features(TRAD_PATHS[0]),\n",
    "            load_traditional_wbcfeatures(TRAD_PATHS[1], img_idx=wb_idx),\n",
    "        ],\n",
    "        axis=0,\n",
    "    ).reset_index(drop=True)\n",
    "\n",
    "    trad_scaled       = StandardScaler().fit_transform(trad)\n",
    "    trad_pca, _       = pca_features(trad)\n",
    "\n",
    "    # 4) Embeddings -----------------------------------------------------------\n",
    "    emb = get_embeddings_array(imgs, masks, labels)\n",
    "\n",
    "    #scale the embeddings\n",
    "    emb = StandardScaler().fit_transform(emb)\n",
    "\n",
    "    feature_sets = {\n",
    "        \"CL\":         emb,\n",
    "        \"Trad\":       trad_scaled,\n",
    "        \"Trad (PCA)\": trad_pca,\n",
    "    }\n",
    "\n",
    "    # open a fresh multi‑page PDF for this ratio\n",
    "    pdf_path = f\"/mnt/deepstore/LBxPheno/figures/figurenew/viz/umap_ratio_{ratio:.2f}.pdf\"  # e.g. umap_ratio_1.00.pdf\n",
    "    with PdfPages(pdf_path) as pdf:\n",
    "\n",
    "        # 5) loop over feature sets & clustering algos -----------------------\n",
    "        for feat_name, matrix in feature_sets.items():\n",
    "            # compute a single UMAP embedding for the feature matrix\n",
    "            umap_coords = umap.UMAP(\n",
    "                n_neighbors=30, min_dist=0.1,\n",
    "                metric=\"cosine\", random_state=42\n",
    "            ).fit_transform(matrix)\n",
    "\n",
    "            print(matrix.shape, labels.shape)\n",
    "\n",
    "            # ----- K‑means ---------------------------------------------------\n",
    "            mets, k_lab = kmeans_results(matrix, labels)\n",
    "            collect_results(ratio, feat_name, \"K‑means\",\n",
    "                            score_names, list(mets.values()))\n",
    "            add_umap_page(pdf, umap_coords, labels, k_lab,\n",
    "                          ratio, feat_name, \"K‑means\")\n",
    "\n",
    "            # ----- Leiden ----------------------------------------------------\n",
    "            mets, l_lab = leiden_results(matrix, labels, k)\n",
    "            collect_results(ratio, feat_name, \"Leiden\",\n",
    "                            score_names, list(mets.values()))\n",
    "            add_umap_page(pdf, umap_coords, labels, l_lab,\n",
    "                          ratio, feat_name, \"Leiden\")\n",
    "\n",
    "    print(f\"✔ Saved UMAP pages to {pdf_path}\")\n"
   ]
  },
  {
   "cell_type": "code",
   "execution_count": 29,
   "metadata": {},
   "outputs": [
    {
     "name": "stderr",
     "output_type": "stream",
     "text": [
      "/home/tessone/miniconda3/envs/prism/lib/python3.9/site-packages/umap/umap_.py:1952: UserWarning: n_jobs value 1 overridden to 1 by setting random_state. Use no seed for parallelism.\n",
      "  warn(\n"
     ]
    },
    {
     "name": "stdout",
     "output_type": "stream",
     "text": [
      "(3249, 128) (3249,)\n"
     ]
    },
    {
     "name": "stderr",
     "output_type": "stream",
     "text": [
      "/home/tessone/miniconda3/envs/prism/lib/python3.9/site-packages/umap/umap_.py:1952: UserWarning: n_jobs value 1 overridden to 1 by setting random_state. Use no seed for parallelism.\n",
      "  warn(\n"
     ]
    },
    {
     "name": "stdout",
     "output_type": "stream",
     "text": [
      "(3249, 368) (3249,)\n"
     ]
    },
    {
     "name": "stderr",
     "output_type": "stream",
     "text": [
      "/home/tessone/miniconda3/envs/prism/lib/python3.9/site-packages/umap/umap_.py:1952: UserWarning: n_jobs value 1 overridden to 1 by setting random_state. Use no seed for parallelism.\n",
      "  warn(\n"
     ]
    },
    {
     "name": "stdout",
     "output_type": "stream",
     "text": [
      "(3249, 128) (3249,)\n",
      "✔ Saved UMAP pages to /mnt/deepstore/LBxPheno/figures/figurenew/viz/umap_ratio_0.50.pdf\n"
     ]
    },
    {
     "name": "stderr",
     "output_type": "stream",
     "text": [
      "/home/tessone/miniconda3/envs/prism/lib/python3.9/site-packages/umap/umap_.py:1952: UserWarning: n_jobs value 1 overridden to 1 by setting random_state. Use no seed for parallelism.\n",
      "  warn(\n"
     ]
    },
    {
     "name": "stdout",
     "output_type": "stream",
     "text": [
      "(4332, 128) (4332,)\n"
     ]
    },
    {
     "name": "stderr",
     "output_type": "stream",
     "text": [
      "/home/tessone/miniconda3/envs/prism/lib/python3.9/site-packages/umap/umap_.py:1952: UserWarning: n_jobs value 1 overridden to 1 by setting random_state. Use no seed for parallelism.\n",
      "  warn(\n"
     ]
    },
    {
     "name": "stdout",
     "output_type": "stream",
     "text": [
      "(4332, 368) (4332,)\n"
     ]
    },
    {
     "name": "stderr",
     "output_type": "stream",
     "text": [
      "/home/tessone/miniconda3/envs/prism/lib/python3.9/site-packages/umap/umap_.py:1952: UserWarning: n_jobs value 1 overridden to 1 by setting random_state. Use no seed for parallelism.\n",
      "  warn(\n"
     ]
    },
    {
     "name": "stdout",
     "output_type": "stream",
     "text": [
      "(4332, 128) (4332,)\n",
      "✔ Saved UMAP pages to /mnt/deepstore/LBxPheno/figures/figurenew/viz/umap_ratio_1.00.pdf\n"
     ]
    },
    {
     "name": "stderr",
     "output_type": "stream",
     "text": [
      "/home/tessone/miniconda3/envs/prism/lib/python3.9/site-packages/umap/umap_.py:1952: UserWarning: n_jobs value 1 overridden to 1 by setting random_state. Use no seed for parallelism.\n",
      "  warn(\n"
     ]
    },
    {
     "name": "stdout",
     "output_type": "stream",
     "text": [
      "(6498, 128) (6498,)\n"
     ]
    },
    {
     "name": "stderr",
     "output_type": "stream",
     "text": [
      "/home/tessone/miniconda3/envs/prism/lib/python3.9/site-packages/umap/umap_.py:1952: UserWarning: n_jobs value 1 overridden to 1 by setting random_state. Use no seed for parallelism.\n",
      "  warn(\n"
     ]
    },
    {
     "name": "stdout",
     "output_type": "stream",
     "text": [
      "(6498, 368) (6498,)\n"
     ]
    },
    {
     "name": "stderr",
     "output_type": "stream",
     "text": [
      "/home/tessone/miniconda3/envs/prism/lib/python3.9/site-packages/umap/umap_.py:1952: UserWarning: n_jobs value 1 overridden to 1 by setting random_state. Use no seed for parallelism.\n",
      "  warn(\n"
     ]
    },
    {
     "name": "stdout",
     "output_type": "stream",
     "text": [
      "(6498, 128) (6498,)\n",
      "✔ Saved UMAP pages to /mnt/deepstore/LBxPheno/figures/figurenew/viz/umap_ratio_2.00.pdf\n"
     ]
    },
    {
     "name": "stderr",
     "output_type": "stream",
     "text": [
      "/home/tessone/miniconda3/envs/prism/lib/python3.9/site-packages/umap/umap_.py:1952: UserWarning: n_jobs value 1 overridden to 1 by setting random_state. Use no seed for parallelism.\n",
      "  warn(\n"
     ]
    },
    {
     "name": "stdout",
     "output_type": "stream",
     "text": [
      "(8664, 128) (8664,)\n"
     ]
    },
    {
     "name": "stderr",
     "output_type": "stream",
     "text": [
      "/home/tessone/miniconda3/envs/prism/lib/python3.9/site-packages/umap/umap_.py:1952: UserWarning: n_jobs value 1 overridden to 1 by setting random_state. Use no seed for parallelism.\n",
      "  warn(\n"
     ]
    },
    {
     "name": "stdout",
     "output_type": "stream",
     "text": [
      "(8664, 368) (8664,)\n"
     ]
    },
    {
     "name": "stderr",
     "output_type": "stream",
     "text": [
      "/home/tessone/miniconda3/envs/prism/lib/python3.9/site-packages/umap/umap_.py:1952: UserWarning: n_jobs value 1 overridden to 1 by setting random_state. Use no seed for parallelism.\n",
      "  warn(\n"
     ]
    },
    {
     "name": "stdout",
     "output_type": "stream",
     "text": [
      "(8664, 128) (8664,)\n",
      "✔ Saved UMAP pages to /mnt/deepstore/LBxPheno/figures/figurenew/viz/umap_ratio_3.00.pdf\n"
     ]
    },
    {
     "name": "stderr",
     "output_type": "stream",
     "text": [
      "/home/tessone/miniconda3/envs/prism/lib/python3.9/site-packages/torch/nn/modules/conv.py:456: UserWarning: Plan failed with a cudnnException: CUDNN_BACKEND_EXECUTION_PLAN_DESCRIPTOR: cudnnFinalize Descriptor Failed cudnn_status: CUDNN_STATUS_NOT_SUPPORTED (Triggered internally at ../aten/src/ATen/native/cudnn/Conv_v8.cpp:919.)\n",
      "  return F.conv2d(input, weight, bias, self.stride,\n",
      "/home/tessone/miniconda3/envs/prism/lib/python3.9/site-packages/umap/umap_.py:1952: UserWarning: n_jobs value 1 overridden to 1 by setting random_state. Use no seed for parallelism.\n",
      "  warn(\n"
     ]
    },
    {
     "name": "stdout",
     "output_type": "stream",
     "text": [
      "(10830, 128) (10830,)\n"
     ]
    },
    {
     "name": "stderr",
     "output_type": "stream",
     "text": [
      "/home/tessone/miniconda3/envs/prism/lib/python3.9/site-packages/umap/umap_.py:1952: UserWarning: n_jobs value 1 overridden to 1 by setting random_state. Use no seed for parallelism.\n",
      "  warn(\n"
     ]
    },
    {
     "name": "stdout",
     "output_type": "stream",
     "text": [
      "(10830, 368) (10830,)\n"
     ]
    },
    {
     "name": "stderr",
     "output_type": "stream",
     "text": [
      "/home/tessone/miniconda3/envs/prism/lib/python3.9/site-packages/umap/umap_.py:1952: UserWarning: n_jobs value 1 overridden to 1 by setting random_state. Use no seed for parallelism.\n",
      "  warn(\n"
     ]
    },
    {
     "name": "stdout",
     "output_type": "stream",
     "text": [
      "(10830, 128) (10830,)\n",
      "✔ Saved UMAP pages to /mnt/deepstore/LBxPheno/figures/figurenew/viz/umap_ratio_4.00.pdf\n"
     ]
    },
    {
     "name": "stderr",
     "output_type": "stream",
     "text": [
      "/home/tessone/miniconda3/envs/prism/lib/python3.9/site-packages/umap/umap_.py:1952: UserWarning: n_jobs value 1 overridden to 1 by setting random_state. Use no seed for parallelism.\n",
      "  warn(\n"
     ]
    },
    {
     "name": "stdout",
     "output_type": "stream",
     "text": [
      "(12996, 128) (12996,)\n"
     ]
    },
    {
     "name": "stderr",
     "output_type": "stream",
     "text": [
      "/home/tessone/miniconda3/envs/prism/lib/python3.9/site-packages/umap/umap_.py:1952: UserWarning: n_jobs value 1 overridden to 1 by setting random_state. Use no seed for parallelism.\n",
      "  warn(\n"
     ]
    },
    {
     "name": "stdout",
     "output_type": "stream",
     "text": [
      "(12996, 368) (12996,)\n"
     ]
    },
    {
     "name": "stderr",
     "output_type": "stream",
     "text": [
      "/home/tessone/miniconda3/envs/prism/lib/python3.9/site-packages/umap/umap_.py:1952: UserWarning: n_jobs value 1 overridden to 1 by setting random_state. Use no seed for parallelism.\n",
      "  warn(\n"
     ]
    },
    {
     "name": "stdout",
     "output_type": "stream",
     "text": [
      "(12996, 128) (12996,)\n",
      "✔ Saved UMAP pages to /mnt/deepstore/LBxPheno/figures/figurenew/viz/umap_ratio_5.00.pdf\n"
     ]
    },
    {
     "name": "stderr",
     "output_type": "stream",
     "text": [
      "/home/tessone/miniconda3/envs/prism/lib/python3.9/site-packages/umap/umap_.py:1952: UserWarning: n_jobs value 1 overridden to 1 by setting random_state. Use no seed for parallelism.\n",
      "  warn(\n"
     ]
    },
    {
     "name": "stdout",
     "output_type": "stream",
     "text": [
      "(15162, 128) (15162,)\n"
     ]
    },
    {
     "name": "stderr",
     "output_type": "stream",
     "text": [
      "/home/tessone/miniconda3/envs/prism/lib/python3.9/site-packages/umap/umap_.py:1952: UserWarning: n_jobs value 1 overridden to 1 by setting random_state. Use no seed for parallelism.\n",
      "  warn(\n"
     ]
    },
    {
     "name": "stdout",
     "output_type": "stream",
     "text": [
      "(15162, 368) (15162,)\n"
     ]
    },
    {
     "name": "stderr",
     "output_type": "stream",
     "text": [
      "/home/tessone/miniconda3/envs/prism/lib/python3.9/site-packages/umap/umap_.py:1952: UserWarning: n_jobs value 1 overridden to 1 by setting random_state. Use no seed for parallelism.\n",
      "  warn(\n"
     ]
    },
    {
     "name": "stdout",
     "output_type": "stream",
     "text": [
      "(15162, 128) (15162,)\n",
      "✔ Saved UMAP pages to /mnt/deepstore/LBxPheno/figures/figurenew/viz/umap_ratio_6.00.pdf\n"
     ]
    },
    {
     "name": "stderr",
     "output_type": "stream",
     "text": [
      "/home/tessone/miniconda3/envs/prism/lib/python3.9/site-packages/umap/umap_.py:1952: UserWarning: n_jobs value 1 overridden to 1 by setting random_state. Use no seed for parallelism.\n",
      "  warn(\n"
     ]
    },
    {
     "name": "stdout",
     "output_type": "stream",
     "text": [
      "(17328, 128) (17328,)\n"
     ]
    },
    {
     "name": "stderr",
     "output_type": "stream",
     "text": [
      "/home/tessone/miniconda3/envs/prism/lib/python3.9/site-packages/umap/umap_.py:1952: UserWarning: n_jobs value 1 overridden to 1 by setting random_state. Use no seed for parallelism.\n",
      "  warn(\n"
     ]
    },
    {
     "name": "stdout",
     "output_type": "stream",
     "text": [
      "(17328, 368) (17328,)\n"
     ]
    },
    {
     "name": "stderr",
     "output_type": "stream",
     "text": [
      "/home/tessone/miniconda3/envs/prism/lib/python3.9/site-packages/umap/umap_.py:1952: UserWarning: n_jobs value 1 overridden to 1 by setting random_state. Use no seed for parallelism.\n",
      "  warn(\n"
     ]
    },
    {
     "name": "stdout",
     "output_type": "stream",
     "text": [
      "(17328, 128) (17328,)\n",
      "✔ Saved UMAP pages to /mnt/deepstore/LBxPheno/figures/figurenew/viz/umap_ratio_7.00.pdf\n"
     ]
    },
    {
     "name": "stderr",
     "output_type": "stream",
     "text": [
      "/home/tessone/miniconda3/envs/prism/lib/python3.9/site-packages/torch/nn/modules/conv.py:456: UserWarning: Plan failed with a cudnnException: CUDNN_BACKEND_EXECUTION_PLAN_DESCRIPTOR: cudnnFinalize Descriptor Failed cudnn_status: CUDNN_STATUS_NOT_SUPPORTED (Triggered internally at ../aten/src/ATen/native/cudnn/Conv_v8.cpp:919.)\n",
      "  return F.conv2d(input, weight, bias, self.stride,\n",
      "/home/tessone/miniconda3/envs/prism/lib/python3.9/site-packages/umap/umap_.py:1952: UserWarning: n_jobs value 1 overridden to 1 by setting random_state. Use no seed for parallelism.\n",
      "  warn(\n"
     ]
    },
    {
     "name": "stdout",
     "output_type": "stream",
     "text": [
      "(19494, 128) (19494,)\n"
     ]
    },
    {
     "name": "stderr",
     "output_type": "stream",
     "text": [
      "/home/tessone/miniconda3/envs/prism/lib/python3.9/site-packages/umap/umap_.py:1952: UserWarning: n_jobs value 1 overridden to 1 by setting random_state. Use no seed for parallelism.\n",
      "  warn(\n"
     ]
    },
    {
     "name": "stdout",
     "output_type": "stream",
     "text": [
      "(19494, 368) (19494,)\n"
     ]
    },
    {
     "name": "stderr",
     "output_type": "stream",
     "text": [
      "/home/tessone/miniconda3/envs/prism/lib/python3.9/site-packages/umap/umap_.py:1952: UserWarning: n_jobs value 1 overridden to 1 by setting random_state. Use no seed for parallelism.\n",
      "  warn(\n"
     ]
    },
    {
     "name": "stdout",
     "output_type": "stream",
     "text": [
      "(19494, 128) (19494,)\n",
      "✔ Saved UMAP pages to /mnt/deepstore/LBxPheno/figures/figurenew/viz/umap_ratio_8.00.pdf\n"
     ]
    },
    {
     "name": "stderr",
     "output_type": "stream",
     "text": [
      "/home/tessone/miniconda3/envs/prism/lib/python3.9/site-packages/umap/umap_.py:1952: UserWarning: n_jobs value 1 overridden to 1 by setting random_state. Use no seed for parallelism.\n",
      "  warn(\n"
     ]
    },
    {
     "name": "stdout",
     "output_type": "stream",
     "text": [
      "(21660, 128) (21660,)\n"
     ]
    },
    {
     "name": "stderr",
     "output_type": "stream",
     "text": [
      "/home/tessone/miniconda3/envs/prism/lib/python3.9/site-packages/umap/umap_.py:1952: UserWarning: n_jobs value 1 overridden to 1 by setting random_state. Use no seed for parallelism.\n",
      "  warn(\n"
     ]
    },
    {
     "name": "stdout",
     "output_type": "stream",
     "text": [
      "(21660, 368) (21660,)\n"
     ]
    },
    {
     "name": "stderr",
     "output_type": "stream",
     "text": [
      "/home/tessone/miniconda3/envs/prism/lib/python3.9/site-packages/umap/umap_.py:1952: UserWarning: n_jobs value 1 overridden to 1 by setting random_state. Use no seed for parallelism.\n",
      "  warn(\n"
     ]
    },
    {
     "name": "stdout",
     "output_type": "stream",
     "text": [
      "(21660, 128) (21660,)\n",
      "✔ Saved UMAP pages to /mnt/deepstore/LBxPheno/figures/figurenew/viz/umap_ratio_9.00.pdf\n"
     ]
    },
    {
     "name": "stderr",
     "output_type": "stream",
     "text": [
      "/home/tessone/miniconda3/envs/prism/lib/python3.9/site-packages/umap/umap_.py:1952: UserWarning: n_jobs value 1 overridden to 1 by setting random_state. Use no seed for parallelism.\n",
      "  warn(\n"
     ]
    },
    {
     "name": "stdout",
     "output_type": "stream",
     "text": [
      "(23826, 128) (23826,)\n"
     ]
    },
    {
     "name": "stderr",
     "output_type": "stream",
     "text": [
      "/home/tessone/miniconda3/envs/prism/lib/python3.9/site-packages/umap/umap_.py:1952: UserWarning: n_jobs value 1 overridden to 1 by setting random_state. Use no seed for parallelism.\n",
      "  warn(\n"
     ]
    },
    {
     "name": "stdout",
     "output_type": "stream",
     "text": [
      "(23826, 368) (23826,)\n"
     ]
    },
    {
     "name": "stderr",
     "output_type": "stream",
     "text": [
      "/home/tessone/miniconda3/envs/prism/lib/python3.9/site-packages/umap/umap_.py:1952: UserWarning: n_jobs value 1 overridden to 1 by setting random_state. Use no seed for parallelism.\n",
      "  warn(\n"
     ]
    },
    {
     "name": "stdout",
     "output_type": "stream",
     "text": [
      "(23826, 128) (23826,)\n",
      "✔ Saved UMAP pages to /mnt/deepstore/LBxPheno/figures/figurenew/viz/umap_ratio_10.00.pdf\n"
     ]
    }
   ],
   "source": [
    "results = []  # <-- list of rows\n",
    "RATIOS = [0.5, 1, 2, 3, 4, 5, 6, 7, 8, 9, 10]\n",
    "\n",
    "for r in RATIOS:\n",
    "    run_one_ratio(r, raw_features, raw_wbcimages, raw_wbcmasks)\n",
    "\n",
    "results_df = pd.DataFrame(results)\n"
   ]
  },
  {
   "cell_type": "code",
   "execution_count": 30,
   "metadata": {},
   "outputs": [
    {
     "data": {
      "text/html": [
       "<div>\n",
       "<style scoped>\n",
       "    .dataframe tbody tr th:only-of-type {\n",
       "        vertical-align: middle;\n",
       "    }\n",
       "\n",
       "    .dataframe tbody tr th {\n",
       "        vertical-align: top;\n",
       "    }\n",
       "\n",
       "    .dataframe thead th {\n",
       "        text-align: right;\n",
       "    }\n",
       "</style>\n",
       "<table border=\"1\" class=\"dataframe\">\n",
       "  <thead>\n",
       "    <tr style=\"text-align: right;\">\n",
       "      <th></th>\n",
       "      <th>ratio</th>\n",
       "      <th>features</th>\n",
       "      <th>clustering</th>\n",
       "      <th>ARI</th>\n",
       "      <th>NMI</th>\n",
       "      <th>AMI</th>\n",
       "      <th>Homogeneity</th>\n",
       "      <th>Completeness</th>\n",
       "    </tr>\n",
       "  </thead>\n",
       "  <tbody>\n",
       "    <tr>\n",
       "      <th>0</th>\n",
       "      <td>0.5</td>\n",
       "      <td>CL</td>\n",
       "      <td>K‑means</td>\n",
       "      <td>0.543655</td>\n",
       "      <td>0.681641</td>\n",
       "      <td>0.679488</td>\n",
       "      <td>0.634774</td>\n",
       "      <td>0.735982</td>\n",
       "    </tr>\n",
       "    <tr>\n",
       "      <th>1</th>\n",
       "      <td>0.5</td>\n",
       "      <td>CL</td>\n",
       "      <td>Leiden</td>\n",
       "      <td>0.471764</td>\n",
       "      <td>0.702372</td>\n",
       "      <td>0.699495</td>\n",
       "      <td>0.810282</td>\n",
       "      <td>0.619826</td>\n",
       "    </tr>\n",
       "    <tr>\n",
       "      <th>2</th>\n",
       "      <td>0.5</td>\n",
       "      <td>Trad</td>\n",
       "      <td>K‑means</td>\n",
       "      <td>0.516741</td>\n",
       "      <td>0.582580</td>\n",
       "      <td>0.580010</td>\n",
       "      <td>0.560988</td>\n",
       "      <td>0.605900</td>\n",
       "    </tr>\n",
       "    <tr>\n",
       "      <th>3</th>\n",
       "      <td>0.5</td>\n",
       "      <td>Trad</td>\n",
       "      <td>Leiden</td>\n",
       "      <td>0.418836</td>\n",
       "      <td>0.637351</td>\n",
       "      <td>0.633827</td>\n",
       "      <td>0.730787</td>\n",
       "      <td>0.565099</td>\n",
       "    </tr>\n",
       "    <tr>\n",
       "      <th>4</th>\n",
       "      <td>0.5</td>\n",
       "      <td>Trad (PCA)</td>\n",
       "      <td>K‑means</td>\n",
       "      <td>0.443228</td>\n",
       "      <td>0.545381</td>\n",
       "      <td>0.542631</td>\n",
       "      <td>0.534441</td>\n",
       "      <td>0.556779</td>\n",
       "    </tr>\n",
       "    <tr>\n",
       "      <th>...</th>\n",
       "      <td>...</td>\n",
       "      <td>...</td>\n",
       "      <td>...</td>\n",
       "      <td>...</td>\n",
       "      <td>...</td>\n",
       "      <td>...</td>\n",
       "      <td>...</td>\n",
       "      <td>...</td>\n",
       "    </tr>\n",
       "    <tr>\n",
       "      <th>61</th>\n",
       "      <td>10.0</td>\n",
       "      <td>CL</td>\n",
       "      <td>Leiden</td>\n",
       "      <td>0.142916</td>\n",
       "      <td>0.412000</td>\n",
       "      <td>0.410844</td>\n",
       "      <td>0.654628</td>\n",
       "      <td>0.300591</td>\n",
       "    </tr>\n",
       "    <tr>\n",
       "      <th>62</th>\n",
       "      <td>10.0</td>\n",
       "      <td>Trad</td>\n",
       "      <td>K‑means</td>\n",
       "      <td>0.118561</td>\n",
       "      <td>0.275196</td>\n",
       "      <td>0.274392</td>\n",
       "      <td>0.326494</td>\n",
       "      <td>0.237829</td>\n",
       "    </tr>\n",
       "    <tr>\n",
       "      <th>63</th>\n",
       "      <td>10.0</td>\n",
       "      <td>Trad</td>\n",
       "      <td>Leiden</td>\n",
       "      <td>0.122966</td>\n",
       "      <td>0.343834</td>\n",
       "      <td>0.342920</td>\n",
       "      <td>0.509244</td>\n",
       "      <td>0.259534</td>\n",
       "    </tr>\n",
       "    <tr>\n",
       "      <th>64</th>\n",
       "      <td>10.0</td>\n",
       "      <td>Trad (PCA)</td>\n",
       "      <td>K‑means</td>\n",
       "      <td>0.174223</td>\n",
       "      <td>0.313632</td>\n",
       "      <td>0.312847</td>\n",
       "      <td>0.361988</td>\n",
       "      <td>0.276673</td>\n",
       "    </tr>\n",
       "    <tr>\n",
       "      <th>65</th>\n",
       "      <td>10.0</td>\n",
       "      <td>Trad (PCA)</td>\n",
       "      <td>Leiden</td>\n",
       "      <td>0.129032</td>\n",
       "      <td>0.345571</td>\n",
       "      <td>0.344708</td>\n",
       "      <td>0.501741</td>\n",
       "      <td>0.263542</td>\n",
       "    </tr>\n",
       "  </tbody>\n",
       "</table>\n",
       "<p>66 rows × 8 columns</p>\n",
       "</div>"
      ],
      "text/plain": [
       "    ratio    features clustering       ARI       NMI       AMI  Homogeneity  \\\n",
       "0     0.5          CL    K‑means  0.543655  0.681641  0.679488     0.634774   \n",
       "1     0.5          CL     Leiden  0.471764  0.702372  0.699495     0.810282   \n",
       "2     0.5        Trad    K‑means  0.516741  0.582580  0.580010     0.560988   \n",
       "3     0.5        Trad     Leiden  0.418836  0.637351  0.633827     0.730787   \n",
       "4     0.5  Trad (PCA)    K‑means  0.443228  0.545381  0.542631     0.534441   \n",
       "..    ...         ...        ...       ...       ...       ...          ...   \n",
       "61   10.0          CL     Leiden  0.142916  0.412000  0.410844     0.654628   \n",
       "62   10.0        Trad    K‑means  0.118561  0.275196  0.274392     0.326494   \n",
       "63   10.0        Trad     Leiden  0.122966  0.343834  0.342920     0.509244   \n",
       "64   10.0  Trad (PCA)    K‑means  0.174223  0.313632  0.312847     0.361988   \n",
       "65   10.0  Trad (PCA)     Leiden  0.129032  0.345571  0.344708     0.501741   \n",
       "\n",
       "    Completeness  \n",
       "0       0.735982  \n",
       "1       0.619826  \n",
       "2       0.605900  \n",
       "3       0.565099  \n",
       "4       0.556779  \n",
       "..           ...  \n",
       "61      0.300591  \n",
       "62      0.237829  \n",
       "63      0.259534  \n",
       "64      0.276673  \n",
       "65      0.263542  \n",
       "\n",
       "[66 rows x 8 columns]"
      ]
     },
     "execution_count": 30,
     "metadata": {},
     "output_type": "execute_result"
    }
   ],
   "source": [
    "results_df"
   ]
  },
  {
   "cell_type": "code",
   "execution_count": 31,
   "metadata": {},
   "outputs": [],
   "source": [
    "#remove AMI from results_df\n",
    "results_df2 = results_df.drop(columns=['AMI'])"
   ]
  },
  {
   "cell_type": "code",
   "execution_count": 32,
   "metadata": {},
   "outputs": [],
   "source": [
    "metrics = [\"ARI\", \"NMI\", \"Homogeneity\", \"Completeness\"]\n",
    "\n",
    "for m in metrics:                      # flatten any 1-element containers\n",
    "    results_df2[m] = results_df2[m].apply(\n",
    "        lambda v: float(np.asarray(v).squeeze())\n",
    "                  if isinstance(v, (list, np.ndarray, pd.Series))\n",
    "                  else v\n",
    "    )\n",
    "\n",
    "long_df = results_df2.melt(\n",
    "    id_vars=[\"ratio\", \"features\", \"clustering\"],\n",
    "    value_vars=metrics,\n",
    "    var_name=\"score_name\",\n",
    "    value_name=\"score_value\",\n",
    ").astype({\"ratio\": float, \"score_value\": float})\n"
   ]
  },
  {
   "cell_type": "code",
   "execution_count": 33,
   "metadata": {},
   "outputs": [
    {
     "data": {
      "image/png": "[encoded data removed]",
      "text/plain": [
       "<Figure size 1600x600 with 8 Axes>"
      ]
     },
     "metadata": {},
     "output_type": "display_data"
    }
   ],
   "source": [
    "import matplotlib.pyplot as plt\n",
    "import numpy as np\n",
    "import pandas as pd\n",
    "\n",
    "# --- make absolutely sure every cell is a scalar number -------------------\n",
    "long_df[\"ratio\"]       = pd.to_numeric(long_df[\"ratio\"]      , errors=\"coerce\")\n",
    "long_df[\"score_value\"] = pd.to_numeric(long_df[\"score_value\"], errors=\"coerce\")\n",
    "\n",
    "# optional but helpful: sort the curves left-to-right\n",
    "long_df = long_df.sort_values(\"ratio\")\n",
    "\n",
    "# --- figure layout --------------------------------------------------------\n",
    "score_names = long_df[\"score_name\"].unique()\n",
    "clusterings = long_df[\"clustering\"].unique()\n",
    "n_rows, n_cols = len(clusterings), len(score_names)\n",
    "\n",
    "fig, axes = plt.subplots(\n",
    "    n_rows, n_cols,\n",
    "    figsize=(4 * n_cols, 3 * n_rows),\n",
    "    sharex=\"col\",  # same x-axis per column\n",
    "    sharey=False\n",
    ")\n",
    "\n",
    "# axes is 2-D even for a single row/col; normalise to 2-D indexing\n",
    "if n_rows == 1 and n_cols == 1:\n",
    "    axes = np.array([[axes]])\n",
    "elif n_rows == 1:\n",
    "    axes = axes[np.newaxis, :]\n",
    "elif n_cols == 1:\n",
    "    axes = axes[:, np.newaxis]\n",
    "\n",
    "# --- plot loop ------------------------------------------------------------\n",
    "for i, clust in enumerate(clusterings):\n",
    "    for j, score in enumerate(score_names):\n",
    "        ax     = axes[i, j]\n",
    "        subset = long_df.query(\"clustering == @clust and score_name == @score\")\n",
    "\n",
    "        for feat, d in subset.groupby(\"features\"):\n",
    "            ax.plot(\n",
    "                d[\"ratio\"],\n",
    "                d[\"score_value\"],\n",
    "                marker=\"o\",\n",
    "                label=feat,\n",
    "            )\n",
    "\n",
    "        # cosmetics\n",
    "        if i == 0:  # top row\n",
    "            ax.set_title(score, fontsize=12, pad=4)\n",
    "        if j == 0:  # leftmost column\n",
    "            ax.set_ylabel(f\"{clust}\\nscore\", fontsize=11)\n",
    "        ax.grid(True, alpha=0.3)\n",
    "        ax.set_xlabel(\"Imbalance ratio\")\n",
    "\n",
    "# one shared legend, pushed outside the grid\n",
    "handles, labels = axes[0, 0].get_legend_handles_labels()\n",
    "fig.legend(handles, labels, loc=\"center left\", bbox_to_anchor=(1.02, 0.5), frameon=False)\n",
    "\n",
    "plt.tight_layout(rect=[0, 0, 0.88, 1])  # leave space for the legend\n",
    "plt.show()\n"
   ]
  },
  {
   "cell_type": "code",
   "execution_count": 34,
   "metadata": {},
   "outputs": [],
   "source": [
    "#save results2 \n",
    "results_df2.to_csv('/mnt/deepstore/LBxPheno/figures/figurenew/results.csv', index=False)"
   ]
  }
 ],
 "metadata": {
  "kernelspec": {
   "display_name": "prism",
   "language": "python",
   "name": "python3"
  },
  "language_info": {
   "codemirror_mode": {
    "name": "ipython",
    "version": 3
   },
   "file_extension": ".py",
   "mimetype": "text/x-python",
   "name": "python",
   "nbconvert_exporter": "python",
   "pygments_lexer": "ipython3",
   "version": "3.9.0"
  }
 },
 "nbformat": 4,
 "nbformat_minor": 2
}
