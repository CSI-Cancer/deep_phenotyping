{
 "cells": [
  {
   "cell_type": "code",
   "execution_count": 4,
   "metadata": {},
   "outputs": [],
   "source": [
    "import numpy as np\n",
    "import h5py\n",
    "import pandas as pd\n",
    "import torch"
   ]
  },
  {
   "cell_type": "code",
   "execution_count": 5,
   "metadata": {},
   "outputs": [],
   "source": [
    "#read 0B68620 and 0B68720\n",
    "\n",
    "with h5py.File('/mnt/deepstore/Final_DeepPhenotyping/figures/figure6_spikein/annotated_slides/0B87711/0B87711.hdf5',mode='r') as f:\n",
    "    skbr3_images = f['images'][:]\n",
    "    skbr3_masks = f['masks'][:]\n",
    "sk_features = pd.read_hdf('/mnt/deepstore/Final_DeepPhenotyping/figures/figure6_spikein/annotated_slides/0B87711/0B87711.hdf5',key='features',mode='r')\n",
    "\n",
    "with h5py.File('/mnt/deepstore/Final_DeepPhenotyping/figures/figure6_spikein/annotated_slides/0B68720/0B68720.hdf5',mode='r') as f:\n",
    "    hpaec_images = f['images'][:]\n",
    "    hpaec_masks = f['masks'][:]\n",
    "hp_features = pd.read_hdf('/mnt/deepstore/Final_DeepPhenotyping/figures/figure6_spikein/annotated_slides/0B68720/0B68720.hdf5',key='features',mode='r')\n",
    "\n",
    "#merge image arrays\n",
    "images = np.concatenate((skbr3_images,hpaec_images),axis=0)\n",
    "masks = np.concatenate((skbr3_masks,hpaec_masks),axis=0)\n",
    "features = pd.concat([sk_features,hp_features],axis=0)\n",
    "\n",
    "#labels\n",
    "labels = features['label'].values\n",
    "\n",
    "#convert labels to np array\n",
    "labels = np.array(labels)"
   ]
  },
  {
   "cell_type": "code",
   "execution_count": 6,
   "metadata": {},
   "outputs": [
    {
     "name": "stdout",
     "output_type": "stream",
     "text": [
      "(7727, 75, 75, 4)\n",
      "(7727, 75, 75, 1)\n",
      "(7727,)\n"
     ]
    }
   ],
   "source": [
    "print(images.shape)\n",
    "print(masks.shape)\n",
    "print(labels.shape)"
   ]
  },
  {
   "cell_type": "code",
   "execution_count": 7,
   "metadata": {},
   "outputs": [
    {
     "name": "stdout",
     "output_type": "stream",
     "text": [
      "0    6636\n",
      "1     683\n",
      "2     408\n",
      "Name: label, dtype: int64\n"
     ]
    }
   ],
   "source": [
    "print(features['label'].value_counts())"
   ]
  },
  {
   "cell_type": "code",
   "execution_count": 8,
   "metadata": {},
   "outputs": [],
   "source": [
    "#append src to path\n",
    "#set path for importing modules\n",
    "import os\n",
    "import sys\n",
    "\n",
    "# Get the notebook's directory and go up to project root\n",
    "notebook_dir = os.path.abspath('')\n",
    "project_root = os.path.abspath(os.path.join(notebook_dir, \"../..\"))\n",
    "sys.path.append(project_root)\n",
    "\n",
    "from src.representation_learning.data_loader import get_data_loaders\n",
    "from src.representation_learning.model_cl import CL\n",
    "import src.utils.utils as utils"
   ]
  },
  {
   "cell_type": "code",
   "execution_count": 9,
   "metadata": {},
   "outputs": [],
   "source": [
    "np.random.seed(42)\n",
    "torch.manual_seed(42)\n",
    "torch.cuda.manual_seed(42)"
   ]
  },
  {
   "cell_type": "code",
   "execution_count": 10,
   "metadata": {},
   "outputs": [
    {
     "data": {
      "text/plain": [
       "CL(\n",
       "  (encoder): Encoder(\n",
       "    (conv1): Conv2d(5, 32, kernel_size=(3, 3), stride=(1, 1), padding=(1, 1))\n",
       "    (bn1): BatchNorm2d(32, eps=1e-05, momentum=0.1, affine=True, track_running_stats=True)\n",
       "    (conv2): Conv2d(32, 64, kernel_size=(3, 3), stride=(1, 1), padding=(1, 1))\n",
       "    (bn2): BatchNorm2d(64, eps=1e-05, momentum=0.1, affine=True, track_running_stats=True)\n",
       "    (conv3): Conv2d(64, 128, kernel_size=(3, 3), stride=(1, 1), padding=(1, 1))\n",
       "    (bn3): BatchNorm2d(128, eps=1e-05, momentum=0.1, affine=True, track_running_stats=True)\n",
       "    (conv4): Conv2d(128, 256, kernel_size=(3, 3), stride=(1, 1), padding=(1, 1))\n",
       "    (bn4): BatchNorm2d(256, eps=1e-05, momentum=0.1, affine=True, track_running_stats=True)\n",
       "    (pool): MaxPool2d(kernel_size=2, stride=2, padding=0, dilation=1, ceil_mode=False)\n",
       "    (adap_pool): AdaptiveAvgPool2d(output_size=(1, 1))\n",
       "    (fc): Linear(in_features=256, out_features=128, bias=True)\n",
       "  )\n",
       "  (projector): Sequential(\n",
       "    (0): Linear(in_features=128, out_features=128, bias=False)\n",
       "    (1): ReLU()\n",
       "    (2): Linear(in_features=128, out_features=64, bias=False)\n",
       "  )\n",
       ")"
      ]
     },
     "execution_count": 10,
     "metadata": {},
     "output_type": "execute_result"
    }
   ],
   "source": [
    "#model\n",
    "model_path = '/mnt/deepstore/Final_DeepPhenotyping/pipeline/model_weights/representation_learning_04_28.pth'\n",
    "model = CL(in_channels=5, h_dim=128, projection_dim=64)\n",
    "state_dict = torch.load(model_path)['model_state_dict']\n",
    "model.load_state_dict(state_dict)\n",
    "model.eval()\n",
    "model.to('cuda')"
   ]
  },
  {
   "cell_type": "code",
   "execution_count": 11,
   "metadata": {},
   "outputs": [],
   "source": [
    "from src.representation_learning.data_loader import CustomImageDataset\n",
    "\n",
    "dataset = CustomImageDataset(images, masks, labels)\n",
    "dataloader = torch.utils.data.DataLoader(dataset, batch_size=1024, shuffle=False)"
   ]
  },
  {
   "cell_type": "code",
   "execution_count": 12,
   "metadata": {},
   "outputs": [],
   "source": [
    "device = 'cuda:0'"
   ]
  },
  {
   "cell_type": "code",
   "execution_count": 51,
   "metadata": {},
   "outputs": [],
   "source": [
    "embeddings = utils.get_embeddings(model, dataloader, device)\n",
    "\n",
    "embeddings = embeddings.numpy()\n",
    "\n",
    "embeddings_df = pd.DataFrame(\n",
    "    embeddings.astype('float16'),\n",
    "    columns=[f'z{i}' for i in range(embeddings.shape[1])])"
   ]
  },
  {
   "cell_type": "code",
   "execution_count": 52,
   "metadata": {},
   "outputs": [],
   "source": [
    "#now we have the embeddings, we can use them to train a classifier. Let's train a 2 layer MLP with torch\n",
    "\n",
    "from sklearn.model_selection import train_test_split\n",
    "from sklearn.metrics import accuracy_score\n",
    "import torch.nn as nn\n",
    "import torch.optim as optim"
   ]
  },
  {
   "cell_type": "code",
   "execution_count": 76,
   "metadata": {},
   "outputs": [],
   "source": [
    "X_train, X_test, y_train, y_test = train_test_split(embeddings_df, labels, test_size=0.2, random_state=42)\n",
    "\n",
    "X_train = torch.tensor(X_train.values).float().to(device)\n",
    "X_test = torch.tensor(X_test.values).float().to(device)\n",
    "y_train = torch.tensor(y_train).long().to(device)\n",
    "y_test = torch.tensor(y_test).long().to(device)\n",
    "\n",
    "class MLP(nn.Module):\n",
    "    def __init__(self, in_dim, h_dim, out_dim):\n",
    "        super(MLP, self).__init__()\n",
    "        self.fc1 = nn.Linear(in_dim, h_dim)\n",
    "        self.dp1 = nn.Dropout(0.5)\n",
    "        self.fc2 = nn.Linear(h_dim, h_dim//2)\n",
    "        self.dp2 = nn.Dropout(0.5)\n",
    "        self.fc3 = nn.Linear(h_dim//2, out_dim)\n",
    "        \n",
    "    def forward(self, x):\n",
    "        x = torch.relu(self.fc1(x))\n",
    "        x = self.dp1(x)\n",
    "        x = torch.relu(self.fc2(x))\n",
    "        x = self.dp2(x)\n",
    "        x = self.fc3(x)\n",
    "        return x"
   ]
  },
  {
   "cell_type": "code",
   "execution_count": 77,
   "metadata": {},
   "outputs": [],
   "source": [
    "MLP_model = MLP(in_dim=128, h_dim=32, out_dim=3).to(device)\n",
    "\n",
    "criterion = nn.CrossEntropyLoss()\n",
    "\n",
    "optimizer = optim.Adam(MLP_model.parameters(), lr=0.01, weight_decay=0.0001)\n",
    "\n",
    "n_epochs = 100\n",
    "\n"
   ]
  },
  {
   "cell_type": "code",
   "execution_count": 78,
   "metadata": {},
   "outputs": [],
   "source": [
    "train_losses = []\n",
    "test_losses = []"
   ]
  },
  {
   "cell_type": "code",
   "execution_count": 79,
   "metadata": {},
   "outputs": [
    {
     "name": "stdout",
     "output_type": "stream",
     "text": [
      "Epoch 0, Loss 1.5954318046569824\n",
      "Validation Loss 0.7841607928276062\n",
      "Epoch 1, Loss 0.9551361203193665\n",
      "Validation Loss 0.5730305314064026\n",
      "Epoch 2, Loss 0.7478360533714294\n",
      "Validation Loss 0.4415622353553772\n",
      "Epoch 3, Loss 0.6503586769104004\n",
      "Validation Loss 0.3495004177093506\n",
      "Epoch 4, Loss 0.5589647889137268\n",
      "Validation Loss 0.2819705903530121\n",
      "Epoch 5, Loss 0.4955413341522217\n",
      "Validation Loss 0.23386719822883606\n",
      "Epoch 6, Loss 0.4307166337966919\n",
      "Validation Loss 0.19937260448932648\n",
      "Epoch 7, Loss 0.3785342276096344\n",
      "Validation Loss 0.17561577260494232\n",
      "Epoch 8, Loss 0.3472133278846741\n",
      "Validation Loss 0.15820570290088654\n",
      "Epoch 9, Loss 0.31153756380081177\n",
      "Validation Loss 0.14465077221393585\n",
      "Epoch 10, Loss 0.28251469135284424\n",
      "Validation Loss 0.13361462950706482\n",
      "Epoch 11, Loss 0.25729256868362427\n",
      "Validation Loss 0.12461712956428528\n",
      "Epoch 12, Loss 0.2324652075767517\n",
      "Validation Loss 0.11651598662137985\n",
      "Epoch 13, Loss 0.21774327754974365\n",
      "Validation Loss 0.11056561022996902\n",
      "Epoch 14, Loss 0.2008935660123825\n",
      "Validation Loss 0.10638374090194702\n",
      "Epoch 15, Loss 0.1939842402935028\n",
      "Validation Loss 0.10335218161344528\n",
      "Epoch 16, Loss 0.17884205281734467\n",
      "Validation Loss 0.10160425305366516\n",
      "Epoch 17, Loss 0.1737264096736908\n",
      "Validation Loss 0.10094168782234192\n",
      "Epoch 18, Loss 0.16632592678070068\n",
      "Validation Loss 0.10088174790143967\n",
      "Epoch 19, Loss 0.16057170927524567\n",
      "Validation Loss 0.10060863196849823\n",
      "Epoch 20, Loss 0.16929744184017181\n",
      "Validation Loss 0.09923320263624191\n",
      "Epoch 21, Loss 0.15839903056621552\n",
      "Validation Loss 0.09809070825576782\n",
      "Epoch 22, Loss 0.1538028120994568\n",
      "Validation Loss 0.09732329100370407\n",
      "Epoch 23, Loss 0.15070635080337524\n",
      "Validation Loss 0.09667908400297165\n",
      "Epoch 24, Loss 0.1534585803747177\n",
      "Validation Loss 0.09656663984060287\n",
      "Epoch 25, Loss 0.14110460877418518\n",
      "Validation Loss 0.09625144302845001\n",
      "Epoch 26, Loss 0.15358397364616394\n",
      "Validation Loss 0.09513916820287704\n",
      "Epoch 27, Loss 0.14187727868556976\n",
      "Validation Loss 0.09173989295959473\n",
      "Epoch 28, Loss 0.1377255767583847\n",
      "Validation Loss 0.08562971651554108\n",
      "Epoch 29, Loss 0.13647659122943878\n",
      "Validation Loss 0.07715855538845062\n",
      "Epoch 30, Loss 0.129740908741951\n",
      "Validation Loss 0.06921498477458954\n",
      "Epoch 31, Loss 0.14702585339546204\n",
      "Validation Loss 0.06358464807271957\n",
      "Epoch 32, Loss 0.12368948012590408\n",
      "Validation Loss 0.0604214109480381\n",
      "Epoch 33, Loss 0.12139695137739182\n",
      "Validation Loss 0.058364033699035645\n",
      "Epoch 34, Loss 0.12306587398052216\n",
      "Validation Loss 0.0561530701816082\n",
      "Epoch 35, Loss 0.12878553569316864\n",
      "Validation Loss 0.05529949814081192\n",
      "Epoch 36, Loss 0.12773166596889496\n",
      "Validation Loss 0.05668167769908905\n",
      "Epoch 37, Loss 0.12685179710388184\n",
      "Validation Loss 0.056069593876600266\n",
      "Epoch 38, Loss 0.11857084184885025\n",
      "Validation Loss 0.05603455379605293\n",
      "Epoch 39, Loss 0.11944307386875153\n",
      "Validation Loss 0.05495089665055275\n",
      "Epoch 40, Loss 0.1127316877245903\n",
      "Validation Loss 0.05389473959803581\n",
      "Epoch 41, Loss 0.12766700983047485\n",
      "Validation Loss 0.0532706193625927\n",
      "Epoch 42, Loss 0.11233243346214294\n",
      "Validation Loss 0.05090158432722092\n",
      "Epoch 43, Loss 0.12162899225950241\n",
      "Validation Loss 0.04794524237513542\n",
      "Epoch 44, Loss 0.10632199794054031\n",
      "Validation Loss 0.0456310473382473\n",
      "Epoch 45, Loss 0.11503306031227112\n",
      "Validation Loss 0.044567953795194626\n",
      "Epoch 46, Loss 0.1083519458770752\n",
      "Validation Loss 0.043767962604761124\n",
      "Epoch 47, Loss 0.12068644165992737\n",
      "Validation Loss 0.04182925447821617\n",
      "Epoch 48, Loss 0.10281503945589066\n",
      "Validation Loss 0.039543770253658295\n",
      "Epoch 49, Loss 0.11440534144639969\n",
      "Validation Loss 0.03850085288286209\n",
      "Epoch 50, Loss 0.11350280791521072\n",
      "Validation Loss 0.037507135421037674\n",
      "Epoch 51, Loss 0.11604808270931244\n",
      "Validation Loss 0.03811202570796013\n",
      "Epoch 52, Loss 0.11137992888689041\n",
      "Validation Loss 0.03809512034058571\n",
      "Epoch 53, Loss 0.11453977972269058\n",
      "Validation Loss 0.038955654948949814\n",
      "Epoch 54, Loss 0.10608546435832977\n",
      "Validation Loss 0.039602093398571014\n",
      "Epoch 55, Loss 0.11121249943971634\n",
      "Validation Loss 0.04037582129240036\n",
      "Epoch 56, Loss 0.11374389380216599\n",
      "Validation Loss 0.04210323840379715\n",
      "Epoch 57, Loss 0.11019075661897659\n",
      "Validation Loss 0.043291185051202774\n",
      "Epoch 58, Loss 0.11096955835819244\n",
      "Validation Loss 0.04339035600423813\n",
      "Epoch 59, Loss 0.09988947957754135\n",
      "Validation Loss 0.04313402622938156\n",
      "Epoch 60, Loss 0.10139655321836472\n",
      "Validation Loss 0.04393557086586952\n",
      "Epoch 61, Loss 0.11925836652517319\n",
      "Validation Loss 0.04480373114347458\n",
      "Epoch 62, Loss 0.10332541912794113\n",
      "Validation Loss 0.04563957080245018\n",
      "Epoch 63, Loss 0.10572126507759094\n",
      "Validation Loss 0.044772859662771225\n",
      "Epoch 64, Loss 0.10349534451961517\n",
      "Validation Loss 0.04264305531978607\n",
      "Epoch 65, Loss 0.09819463640451431\n",
      "Validation Loss 0.04044254124164581\n",
      "Epoch 66, Loss 0.09337101131677628\n",
      "Validation Loss 0.03873810917139053\n",
      "Epoch 67, Loss 0.09523821622133255\n",
      "Validation Loss 0.03763541206717491\n",
      "Epoch 68, Loss 0.0976908728480339\n",
      "Validation Loss 0.036977481096982956\n",
      "Epoch 69, Loss 0.1020575687289238\n",
      "Validation Loss 0.036754291504621506\n",
      "Epoch 70, Loss 0.09660223871469498\n",
      "Validation Loss 0.03697585687041283\n",
      "Epoch 71, Loss 0.10478200763463974\n",
      "Validation Loss 0.03781271353363991\n",
      "Epoch 72, Loss 0.09981890767812729\n",
      "Validation Loss 0.039569318294525146\n",
      "Epoch 73, Loss 0.09796027094125748\n",
      "Validation Loss 0.040276702493429184\n",
      "Epoch 74, Loss 0.11015976965427399\n",
      "Validation Loss 0.03969334438443184\n",
      "Epoch 75, Loss 0.08975144475698471\n",
      "Validation Loss 0.03895943984389305\n",
      "Epoch 76, Loss 0.10185165703296661\n",
      "Validation Loss 0.03866134211421013\n",
      "Epoch 77, Loss 0.0871921256184578\n",
      "Validation Loss 0.038527555763721466\n",
      "Epoch 78, Loss 0.0920933187007904\n",
      "Validation Loss 0.03844137862324715\n",
      "Epoch 79, Loss 0.09997370094060898\n",
      "Validation Loss 0.03803147375583649\n",
      "Epoch 80, Loss 0.10348048806190491\n",
      "Validation Loss 0.03797713294625282\n",
      "Epoch 81, Loss 0.09061441570520401\n",
      "Validation Loss 0.03771572560071945\n",
      "Epoch 82, Loss 0.09512097388505936\n",
      "Validation Loss 0.03776388242840767\n",
      "Epoch 83, Loss 0.0922037661075592\n",
      "Validation Loss 0.037605173885822296\n",
      "Epoch 84, Loss 0.09397712349891663\n",
      "Validation Loss 0.037204559892416\n",
      "Epoch 85, Loss 0.09758438915014267\n",
      "Validation Loss 0.03676117584109306\n",
      "Epoch 86, Loss 0.09581320732831955\n",
      "Validation Loss 0.03645505756139755\n",
      "Epoch 87, Loss 0.08829204738140106\n",
      "Validation Loss 0.0362396277487278\n",
      "Epoch 88, Loss 0.09536216408014297\n",
      "Validation Loss 0.03623076155781746\n",
      "Epoch 89, Loss 0.09742768853902817\n",
      "Validation Loss 0.03657175973057747\n",
      "Epoch 90, Loss 0.09191496670246124\n",
      "Validation Loss 0.037534695118665695\n",
      "Epoch 91, Loss 0.09686100482940674\n",
      "Validation Loss 0.03892343491315842\n",
      "Epoch 92, Loss 0.09603636711835861\n",
      "Validation Loss 0.039848197251558304\n",
      "Epoch 93, Loss 0.08889058232307434\n",
      "Validation Loss 0.040319815278053284\n",
      "Epoch 94, Loss 0.09441971778869629\n",
      "Validation Loss 0.04010222107172012\n",
      "Epoch 95, Loss 0.09140666574239731\n",
      "Validation Loss 0.03912986442446709\n",
      "Epoch 96, Loss 0.0888967290520668\n",
      "Validation Loss 0.03869225084781647\n",
      "Epoch 97, Loss 0.09119405597448349\n",
      "Validation Loss 0.037198446691036224\n",
      "Epoch 98, Loss 0.09302462637424469\n",
      "Validation Loss 0.03571869805455208\n",
      "Epoch 99, Loss 0.09495046734809875\n",
      "Validation Loss 0.034813009202480316\n"
     ]
    }
   ],
   "source": [
    "for epoch in range(n_epochs):\n",
    "    MLP_model.train()\n",
    "    optimizer.zero_grad()\n",
    "    y_pred = MLP_model(X_train)\n",
    "    loss = criterion(y_pred, y_train)\n",
    "    loss.backward()\n",
    "    optimizer.step()\n",
    "    if epoch % 1 == 0:\n",
    "        print(f'Epoch {epoch}, Loss {loss.item()}')\n",
    "        train_losses.append(loss.item())\n",
    "\n",
    "    #validation\n",
    "    MLP_model.eval()\n",
    "    y_pred = MLP_model(X_test)\n",
    "    loss = criterion(y_pred, y_test)\n",
    "    print(f'Validation Loss {loss.item()}')\n",
    "    test_losses.append(loss.item())\n",
    "\n"
   ]
  },
  {
   "cell_type": "code",
   "execution_count": 80,
   "metadata": {},
   "outputs": [
    {
     "data": {
      "image/png": "[encoded data removed]",
      "text/plain": [
       "<Figure size 640x480 with 1 Axes>"
      ]
     },
     "metadata": {},
     "output_type": "display_data"
    }
   ],
   "source": [
    "#plot losses\n",
    "import matplotlib.pyplot as plt\n",
    "\n",
    "plt.plot(train_losses, label='train')\n",
    "plt.plot(test_losses, label='test')\n",
    "plt.legend()\n",
    "plt.show()\n"
   ]
  },
  {
   "cell_type": "code",
   "execution_count": 81,
   "metadata": {},
   "outputs": [
    {
     "name": "stdout",
     "output_type": "stream",
     "text": [
      "Accuracy: 0.9954721862871928\n"
     ]
    }
   ],
   "source": [
    "#accuracy\n",
    "y_pred = MLP_model(X_test)\n",
    "y_pred = torch.argmax(y_pred, dim=1)\n",
    "accuracy = accuracy_score(y_test.cpu().numpy(), y_pred.cpu().numpy())\n",
    "print(f'Accuracy: {accuracy}')\n",
    "\n"
   ]
  },
  {
   "cell_type": "code",
   "execution_count": 84,
   "metadata": {},
   "outputs": [],
   "source": [
    "#save model\n",
    "torch.save(MLP_model.state_dict(), '/mnt/deepstore/Final_DeepPhenotyping/pipeline/model_weights/spikein_model_04_30.pth')"
   ]
  },
  {
   "cell_type": "code",
   "execution_count": 83,
   "metadata": {},
   "outputs": [
    {
     "data": {
      "image/png": "[encoded data removed]",
      "text/plain": [
       "<Figure size 640x480 with 2 Axes>"
      ]
     },
     "metadata": {},
     "output_type": "display_data"
    }
   ],
   "source": [
    "#create a confusion matrix\n",
    "from sklearn.metrics import confusion_matrix\n",
    "import seaborn as sns\n",
    "\n",
    "y_pred = MLP_model(X_test)\n",
    "y_pred = torch.argmax(y_pred, dim=1)\n",
    "cm = confusion_matrix(y_test.cpu().numpy(), y_pred.cpu().numpy())\n",
    "sns.heatmap(cm, annot=True, fmt='d')\n",
    "\n",
    "#add x and y label with predicted and true \n",
    "plt.xlabel('Predicted')\n",
    "plt.ylabel('True')\n",
    "\n",
    "#add x and y ticks with class names\n",
    "plt.xticks(ticks=[0.5,1.5,2.5], labels=['Others', 'SK-BR-3', 'HPAEC'])\n",
    "plt.yticks(ticks=[0.5,1.5,2.5], labels=['Others', 'SK-BR-3', 'HPAEC'])\n",
    "plt.show()\n"
   ]
  }
 ],
 "metadata": {
  "kernelspec": {
   "display_name": "prism",
   "language": "python",
   "name": "python3"
  },
  "language_info": {
   "codemirror_mode": {
    "name": "ipython",
    "version": 3
   },
   "file_extension": ".py",
   "mimetype": "text/x-python",
   "name": "python",
   "nbconvert_exporter": "python",
   "pygments_lexer": "ipython3",
   "version": "3.9.0"
  }
 },
 "nbformat": 4,
 "nbformat_minor": 2
}
